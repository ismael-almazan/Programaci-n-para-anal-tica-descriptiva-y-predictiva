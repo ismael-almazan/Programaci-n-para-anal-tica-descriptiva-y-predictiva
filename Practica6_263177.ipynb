{
  "nbformat": 4,
  "nbformat_minor": 0,
  "metadata": {
    "colab": {
      "provenance": [],
      "mount_file_id": "1l5Fvz-K_jcpzuzGE7kx59HDjODwsTOyh",
      "authorship_tag": "ABX9TyNbr1fpI97GSpYSUBNfwt92",
      "include_colab_link": true
    },
    "kernelspec": {
      "name": "python3",
      "display_name": "Python 3"
    },
    "language_info": {
      "name": "python"
    }
  },
  "cells": [
    {
      "cell_type": "markdown",
      "metadata": {
        "id": "view-in-github",
        "colab_type": "text"
      },
      "source": [
        "<a href=\"https://colab.research.google.com/github/ismael-almazan/Programaci-n-para-anal-tica-descriptiva-y-predictiva/blob/main/Practica6_263177.ipynb\" target=\"_parent\"><img src=\"https://colab.research.google.com/assets/colab-badge.svg\" alt=\"Open In Colab\"/></a>"
      ]
    },
    {
      "cell_type": "markdown",
      "source": [
        "**Importar los datos de Drive**"
      ],
      "metadata": {
        "id": "ZffI2Z1hMnCd"
      }
    },
    {
      "cell_type": "code",
      "source": [
        "import pandas as pd\n",
        "import numpy as np\n",
        "#Importar la bd de Drive y comprobar\n",
        "datos = pd.read_csv('/content/drive/MyDrive/ClassFiles/Titanic-Dataset.csv')\n"
      ],
      "metadata": {
        "id": "Vdvf1ltMJL9d"
      },
      "execution_count": 46,
      "outputs": []
    },
    {
      "cell_type": "markdown",
      "source": [
        "# Ejercicio 1: Análisis de la distribución de supervivencia por combinación de sexo y clase del pasajero.\n",
        "*   Calcula la proporción de supervivencia para cada combinación de 'Sex' y 'Pclass'.\n",
        "*   Identifica qué combinación tuvo la tasa de supervivencia más alta.\n",
        "*   Identifica qué combinación tuvo la tasa de supervivencia más baja."
      ],
      "metadata": {
        "id": "Ec1ISYypLnE_"
      }
    },
    {
      "cell_type": "code",
      "execution_count": 47,
      "metadata": {
        "id": "_eZ87-KaI322",
        "colab": {
          "base_uri": "https://localhost:8080/"
        },
        "outputId": "8454ffd7-f221-4d8c-e8c5-b4ff0ce416fa"
      },
      "outputs": [
        {
          "output_type": "stream",
          "name": "stdout",
          "text": [
            "Sex     Pclass\n",
            "female  1         0.968085\n",
            "        2         0.921053\n",
            "        3         0.500000\n",
            "male    1         0.368852\n",
            "        2         0.157407\n",
            "        3         0.135447\n",
            "Name: Survived, dtype: float64\n"
          ]
        }
      ],
      "source": [
        "#Proporcion de supervivencia para cada combinacion de 'Sex' y 'Pclass'\n",
        "propsuper = datos.groupby(['Sex', 'Pclass'])['Survived'].mean()\n",
        "print(propsuper)\n",
        "\n",
        "#La combinacion que tuvo la tasa de supervivencia mas alta fue mujeres de primera clase, con aproximadamente 96.8%\n",
        "#La combinacion que tuvo la tasa de supervivencia mas baja fue hombres de tercera clase, con aproximadamente 13.54%"
      ]
    },
    {
      "cell_type": "markdown",
      "source": [
        "# Ejercicio 2: Identificación de familias grandes a bordo.\n",
        "\n",
        "*   Crea una nueva columna 'FamilySize' sumando las columnas 'SibSp' y 'Parch'.\n",
        "*   Considera como \"familia grande\" a aquellas donde 'FamilySize' es mayor a 3.\n",
        "*   Calcula el número de pasajeros en familias grandes.\n",
        "*   Calcula la proporción de supervivencia entre los pasajeros que pertenecen a familias grandes.\n",
        "\n"
      ],
      "metadata": {
        "id": "ZBCWVkQ9Lwgl"
      }
    },
    {
      "cell_type": "code",
      "source": [
        "#Crear nuevo columna de FamilySize\n",
        "datos['FamilySize']=datos['Sibsp'] + datos['Parch']\n",
        "\n",
        "#Calculo de numero de pasajeros en familias grandes (mayor a 3)\n",
        "numfam3 = len(datos[datos['FamilySize']>3])\n",
        "print(\"Numero de pasajeros en familias grandes: \",numfam3 )\n",
        "\n",
        "#Calculo de a proporción de supervivencia entre los pasajeros que pertenecen a familias grandes.\n",
        "propfam3 = datos[datos['FamilySize']>3]['Survived'].mean()\n",
        "print(\"Proporcion de supervivencia entre los pasajeros que pertenecen a familias grandes: \",propfam3)"
      ],
      "metadata": {
        "colab": {
          "base_uri": "https://localhost:8080/"
        },
        "id": "oph1gWDpM12y",
        "outputId": "66b3a23c-58a1-4de9-e65f-e9ad0b47eeb8"
      },
      "execution_count": 14,
      "outputs": [
        {
          "output_type": "stream",
          "name": "stdout",
          "text": [
            "Numero de pasajeros en familias grandes:  95\n",
            "Proporcion de supervivencia entre los pasajeros que pertenecen a familias grandes:  0.4631578947368421\n"
          ]
        }
      ]
    },
    {
      "cell_type": "markdown",
      "source": [
        "# Ejercicio 3: Segmentación por grupos de edad.\n",
        "Clasifica a los pasajeros en las siguientes categorías de edad(tip puede resultar mas sencillo realizarlo con una función):  menor de edad (< 18) y mayor de edad (>=18)"
      ],
      "metadata": {
        "id": "5Y-qZJabM2Yg"
      }
    },
    {
      "cell_type": "code",
      "source": [
        "#Clasifica a los pasajeros en las siguientes categorías de edad(tip puede resultar mas sencillo realizarlo con una función): menor de edad (< 18) y mayor de edad (>=18)\n",
        "\n",
        "datos['Catedad'] = np.where(datos['Age'] < 18, 'Menor de edad', np.where(datos['Age'].isna(), 'Desconocido', 'Mayor de edad'))\n",
        "categorias = datos['Catedad'].value_counts().reset_index()\n",
        "categorias.columns = ['Categoría', 'Cantidad']\n",
        "print(categorias)\n",
        "\n",
        "print(\"Total\",len(datos['Age']))\n"
      ],
      "metadata": {
        "colab": {
          "base_uri": "https://localhost:8080/"
        },
        "id": "I8X6XEqRM2j7",
        "outputId": "b834c736-b673-4cff-a05f-452917f4459f"
      },
      "execution_count": 30,
      "outputs": [
        {
          "output_type": "stream",
          "name": "stdout",
          "text": [
            "       Categoría  Cantidad\n",
            "0  Mayor de edad       601\n",
            "1    Desconocido       177\n",
            "2  Menor de edad       113\n",
            "Total 891\n"
          ]
        }
      ]
    },
    {
      "cell_type": "markdown",
      "source": [
        "# Ejercicio 4: Comparación entre promedios calculados manualmente y con Pandas\n",
        "\n",
        "\n",
        "*   Utiliza NumPy para calcular el promedio de las columnas 'Age' y 'Fare', ignorando valores nulos.\n",
        "*   Compara estos valores con los promedios obtenidos utilizando los métodos nativos de Pandas.\n",
        "*   Verifica que los resultados sean consistentes.\n",
        "\n",
        "\n"
      ],
      "metadata": {
        "id": "0ersZqwLM28s"
      }
    },
    {
      "cell_type": "code",
      "source": [
        "#Promedio de Age y Fare ignorando los valores nulos con Numpy\n",
        "agemean = np.nanmean(datos['Age'])\n",
        "faremean = np.nanmean(datos['Fare'])\n",
        "print(\"Con Numpy\")\n",
        "print(\"Promedio edad: \",agemean)\n",
        "print(\"Promedio tarifa: \",faremean)\n",
        "\n",
        "#Promedio de Age y Fare itilizando metodo nativo de Pandas\n",
        "agemean1 = datos['Age'].mean()\n",
        "faremean1 = datos['Fare'].mean()\n",
        "print(\"Con Pandas\")\n",
        "print(\"Promedio edad: \",agemean1)\n",
        "print(\"Promedio tarifa: \",faremean1)\n",
        "\n",
        "#Los promedio son identicos con los dos metodos"
      ],
      "metadata": {
        "colab": {
          "base_uri": "https://localhost:8080/"
        },
        "id": "fJ2GUT8AM3Iz",
        "outputId": "d8ad8a9f-f893-4174-bcaf-cce450eb3e6f"
      },
      "execution_count": 37,
      "outputs": [
        {
          "output_type": "stream",
          "name": "stdout",
          "text": [
            "Con Numpy\n",
            "Promedio edad:  29.69911764705882\n",
            "Promedio tarifa:  32.204207968574636\n",
            "Con Pandas\n",
            "Promedio edad:  29.69911764705882\n",
            "Promedio tarifa:  32.204207968574636\n"
          ]
        }
      ]
    },
    {
      "cell_type": "markdown",
      "source": [
        "# Ejercicio 5. Creación de intervalos de clase usando NumPy y análisis con Pandas\n",
        "\n",
        "\n",
        "*   Divide la columna 'Fare' en 5 intervalos equidistantes utilizando la función numpy.linspace, el estudiante deberá investigar la operación de esta función en python.\n",
        "*   Crea una nueva columna en el DataFrame que asigne a cada pasajero el intervalo correspondiente de su tarifa.\n",
        "*   Calcula el número de pasajeros en cada intervalo utilizando Pandas y la proporción de supervivientes por intervalo.\n",
        "\n"
      ],
      "metadata": {
        "id": "6UTvCDkkM34S"
      }
    },
    {
      "cell_type": "code",
      "source": [
        "#Idenficar max y min\n",
        "minfare = datos['Fare'].min()\n",
        "maxfare = datos['Fare'].max()\n",
        "print('Max:', maxfare)\n",
        "print('Min:', minfare)\n",
        "\n",
        "#Crear los intervalos utilizando max y min\n",
        "intervalos = np.linspace(minfare, maxfare, 6)\n",
        "print(\"Límites de los intervalos:\", intervalos)\n",
        "\n",
        "#Crear columna que asigne a cada pasajero el intervalo correspondiente a su tarifa\n",
        "datos['Fareinterval'] = pd.cut(datos['Fare'], bins=intervalos, labels=['1 (0-102.46584)', '2 (102.46584-204.93168)', '3(204.93168-307.39752)', '4(307.39752-409.86336 )', '5(409.86336-512.3292)'])\n",
        "\n",
        "#Calcular en numero de pasajeros en cada intervalo y proporcion de supervivientes por intervalo\n",
        "clasificacionpass = datos.groupby('Fareinterval')[['Survived']].mean()   #Cuenta la proporcion\n",
        "clasificacionpass1 = datos.groupby('Fareinterval')[['Survived']].count() #Cuenta el numero de sobrevivientes\n",
        "print(\"\\nProporcion de supervivientes por intervalo\",clasificacionpass)\n",
        "print(\"\\nNumero de supervivientes por intervalo\",clasificacionpass1)\n",
        "\n",
        "\n",
        "\n"
      ],
      "metadata": {
        "colab": {
          "base_uri": "https://localhost:8080/"
        },
        "id": "jYRBZ-7VM4Dy",
        "outputId": "8f642cfd-419f-422e-913f-64c141dd6b08"
      },
      "execution_count": 91,
      "outputs": [
        {
          "output_type": "stream",
          "name": "stdout",
          "text": [
            "Max: 512.3292\n",
            "Min: 0.0\n",
            "Límites de los intervalos: [  0.      102.46584 204.93168 307.39752 409.86336 512.3292 ]\n",
            "\n",
            "Proporcion de supervivientes por intervalo                          Survived\n",
            "Fareinterval                     \n",
            "1 (0-102.46584)          0.366950\n",
            "2 (102.46584-204.93168)  0.757576\n",
            "3(204.93168-307.39752)   0.647059\n",
            "4(307.39752-409.86336 )       NaN\n",
            "5(409.86336-512.3292)    1.000000\n",
            "\n",
            "Numero de supervivientes por intervalo                          Survived\n",
            "Fareinterval                     \n",
            "1 (0-102.46584)               823\n",
            "2 (102.46584-204.93168)        33\n",
            "3(204.93168-307.39752)         17\n",
            "4(307.39752-409.86336 )         0\n",
            "5(409.86336-512.3292)           3\n"
          ]
        },
        {
          "output_type": "stream",
          "name": "stderr",
          "text": [
            "/tmp/ipython-input-46080037.py:15: FutureWarning: The default of observed=False is deprecated and will be changed to True in a future version of pandas. Pass observed=False to retain current behavior or observed=True to adopt the future default and silence this warning.\n",
            "  clasificacionpass = datos.groupby('Fareinterval')[['Survived']].mean()   #Cuenta la proporcion\n",
            "/tmp/ipython-input-46080037.py:16: FutureWarning: The default of observed=False is deprecated and will be changed to True in a future version of pandas. Pass observed=False to retain current behavior or observed=True to adopt the future default and silence this warning.\n",
            "  clasificacionpass1 = datos.groupby('Fareinterval')[['Survived']].count() #Cuenta el numero de sobrevivientes\n"
          ]
        }
      ]
    }
  ]
}