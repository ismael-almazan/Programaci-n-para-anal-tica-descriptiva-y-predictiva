{
  "nbformat": 4,
  "nbformat_minor": 0,
  "metadata": {
    "colab": {
      "provenance": [],
      "mount_file_id": "1l5Fvz-K_jcpzuzGE7kx59HDjODwsTOyh",
      "authorship_tag": "ABX9TyMu9UkdN1Ag3yQrRlXr9SEk",
      "include_colab_link": true
    },
    "kernelspec": {
      "name": "python3",
      "display_name": "Python 3"
    },
    "language_info": {
      "name": "python"
    }
  },
  "cells": [
    {
      "cell_type": "markdown",
      "metadata": {
        "id": "view-in-github",
        "colab_type": "text"
      },
      "source": [
        "<a href=\"https://colab.research.google.com/github/ismael-almazan/Programaci-n-para-anal-tica-descriptiva-y-predictiva/blob/main/Practica6_263177.ipynb\" target=\"_parent\"><img src=\"https://colab.research.google.com/assets/colab-badge.svg\" alt=\"Open In Colab\"/></a>"
      ]
    },
    {
      "cell_type": "markdown",
      "source": [
        "**Importar los datos de Drive**"
      ],
      "metadata": {
        "id": "ZffI2Z1hMnCd"
      }
    },
    {
      "cell_type": "code",
      "source": [
        "import pandas as pd\n",
        "#Importar la bd de Drive y comprobar\n",
        "datos = pd.read_csv('/content/drive/MyDrive/ClassFiles/Titanic-Dataset.csv')\n"
      ],
      "metadata": {
        "id": "Vdvf1ltMJL9d"
      },
      "execution_count": 6,
      "outputs": []
    },
    {
      "cell_type": "markdown",
      "source": [
        "# Ejercicio 1: Análisis de la distribución de supervivencia por combinación de sexo y clase del pasajero.\n",
        "*   Calcula la proporción de supervivencia para cada combinación de 'Sex' y 'Pclass'.\n",
        "*   Identifica qué combinación tuvo la tasa de supervivencia más alta.\n",
        "*   Identifica qué combinación tuvo la tasa de supervivencia más baja."
      ],
      "metadata": {
        "id": "Ec1ISYypLnE_"
      }
    },
    {
      "cell_type": "code",
      "execution_count": 10,
      "metadata": {
        "id": "_eZ87-KaI322",
        "colab": {
          "base_uri": "https://localhost:8080/"
        },
        "outputId": "287c4384-98b2-4ddf-83c7-d695d2e6349a"
      },
      "outputs": [
        {
          "output_type": "stream",
          "name": "stdout",
          "text": [
            "Sex     Pclass\n",
            "female  1         0.968085\n",
            "        2         0.921053\n",
            "        3         0.500000\n",
            "male    1         0.368852\n",
            "        2         0.157407\n",
            "        3         0.135447\n",
            "Name: Survived, dtype: float64\n"
          ]
        }
      ],
      "source": [
        "#Proporcion de supervivencia para cada combinacion de 'Sex' y 'Pclass'\n",
        "propsup = datos.groupby(['Sex', 'Pclass'])['Survived'].mean()\n",
        "print(propsup)\n",
        "\n",
        "#La combinacion que tuvo la tasa de supervivencia mas alta fue mujeres de primera clase, con aproximadamente 96.8%\n",
        "#La combinacion que tuvo la tasa de supervivencia mas baja fue hombres de tercera clase, con aproximadamente 13.54%"
      ]
    },
    {
      "cell_type": "markdown",
      "source": [
        "# Ejercicio 2: Identificación de familias grandes a bordo.\n",
        "\n",
        "*   Crea una nueva columna 'FamilySize' sumando las columnas 'SibSp' y 'Parch'.\n",
        "*   Considera como \"familia grande\" a aquellas donde 'FamilySize' es mayor a 3.\n",
        "*   Calcula el número de pasajeros en familias grandes.\n",
        "*   Calcula la proporción de supervivencia entre los pasajeros que pertenecen a familias grandes.\n",
        "\n"
      ],
      "metadata": {
        "id": "ZBCWVkQ9Lwgl"
      }
    },
    {
      "cell_type": "code",
      "source": [],
      "metadata": {
        "id": "oph1gWDpM12y"
      },
      "execution_count": null,
      "outputs": []
    },
    {
      "cell_type": "markdown",
      "source": [
        "# Ejercicio 3: Segmentación por grupos de edad.\n",
        "Clasifica a los pasajeros en las siguientes categorías de edad(tip puede resultar mas sencillo realizarlo con una función):  menor de edad (< 18) y mayor de edad (>=18)"
      ],
      "metadata": {
        "id": "5Y-qZJabM2Yg"
      }
    },
    {
      "cell_type": "code",
      "source": [],
      "metadata": {
        "id": "I8X6XEqRM2j7"
      },
      "execution_count": null,
      "outputs": []
    },
    {
      "cell_type": "markdown",
      "source": [
        "# Ejercicio 4: Comparación entre promedios calculados manualmente y con Pandas\n",
        "\n",
        "\n",
        "*   Utiliza NumPy para calcular el promedio de las columnas 'Age' y 'Fare', ignorando valores nulos.\n",
        "*   Compara estos valores con los promedios obtenidos utilizando los métodos nativos de Pandas.\n",
        "*   Verifica que los resultados sean consistentes.\n",
        "\n",
        "\n"
      ],
      "metadata": {
        "id": "0ersZqwLM28s"
      }
    },
    {
      "cell_type": "code",
      "source": [],
      "metadata": {
        "id": "fJ2GUT8AM3Iz"
      },
      "execution_count": null,
      "outputs": []
    },
    {
      "cell_type": "markdown",
      "source": [
        "# Ejercicio 5. Creación de intervalos de clase usando NumPy y análisis con Pandas\n",
        "\n",
        "\n",
        "*   Divide la columna 'Fare' en 5 intervalos equidistantes utilizando la función numpy.linspace, el estudiante deberá investigar la operación de esta función en python.\n",
        "*   Crea una nueva columna en el DataFrame que asigne a cada pasajero el intervalo correspondiente de su tarifa.\n",
        "*   Calcula el número de pasajeros en cada intervalo utilizando Pandas y la proporción de supervivientes por intervalo.\n",
        "\n"
      ],
      "metadata": {
        "id": "6UTvCDkkM34S"
      }
    },
    {
      "cell_type": "code",
      "source": [],
      "metadata": {
        "id": "jYRBZ-7VM4Dy"
      },
      "execution_count": null,
      "outputs": []
    }
  ]
}