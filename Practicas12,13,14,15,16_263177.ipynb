{
  "nbformat": 4,
  "nbformat_minor": 0,
  "metadata": {
    "colab": {
      "provenance": [],
      "authorship_tag": "ABX9TyPd5q0akdv1vgzCbg99GHiw",
      "include_colab_link": true
    },
    "kernelspec": {
      "name": "python3",
      "display_name": "Python 3"
    },
    "language_info": {
      "name": "python"
    }
  },
  "cells": [
    {
      "cell_type": "markdown",
      "metadata": {
        "id": "view-in-github",
        "colab_type": "text"
      },
      "source": [
        "<a href=\"https://colab.research.google.com/github/ismael-almazan/Programaci-n-para-anal-tica-descriptiva-y-predictiva/blob/main/Practicas12%2C13%2C14%2C15%2C16_263177.ipynb\" target=\"_parent\"><img src=\"https://colab.research.google.com/assets/colab-badge.svg\" alt=\"Open In Colab\"/></a>"
      ]
    },
    {
      "cell_type": "markdown",
      "source": [
        "**Cargar Datos**"
      ],
      "metadata": {
        "id": "5GqaVWyPW6aJ"
      }
    },
    {
      "cell_type": "code",
      "execution_count": 8,
      "metadata": {
        "colab": {
          "base_uri": "https://localhost:8080/"
        },
        "id": "NmzZls_rWfq9",
        "outputId": "f72ef79f-1e80-40e9-9dde-bca60a998e2b"
      },
      "outputs": [
        {
          "output_type": "stream",
          "name": "stdout",
          "text": [
            "Drive already mounted at /content/drive; to attempt to forcibly remount, call drive.mount(\"/content/drive\", force_remount=True).\n"
          ]
        }
      ],
      "source": [
        "import pandas as pd\n",
        "\n",
        "from google.colab import drive\n",
        "drive.mount('/content/drive')"
      ]
    },
    {
      "cell_type": "markdown",
      "source": [
        "# Práctica 11: Carga de Datos"
      ],
      "metadata": {
        "id": "ADe8SLk3YtRc"
      }
    },
    {
      "cell_type": "code",
      "source": [
        "#Cargar los datos en un dataframe omitiendo la ultima fila\n",
        "df = pd.read_csv('/content/drive/MyDrive/ClassFiles/miaad-nyc-r-s.csv').iloc[:-1]\n",
        "\n",
        "#print(df.head())\n",
        "print(df.columns)\n",
        "\n",
        "#Comprobar que no se cargo la ultima fila\n",
        "df.tail(3)\n",
        "\n",
        "#Imprimir numero de filas y columnas\n",
        "print(\"Filas y columnas:\", df.shape)"
      ],
      "metadata": {
        "colab": {
          "base_uri": "https://localhost:8080/"
        },
        "id": "zvDavGjOYvYC",
        "outputId": "de0ca588-4b87-4056-e822-199212c6c805"
      },
      "execution_count": 15,
      "outputs": [
        {
          "output_type": "stream",
          "name": "stdout",
          "text": [
            "Index(['Unnamed: 0', 'BOROUGH', 'NEIGHBORHOOD', 'BUILDING CLASS CATEGORY',\n",
            "       'TAX CLASS AT PRESENT', 'BLOCK', 'LOT', 'EASE-MENT',\n",
            "       'BUILDING CLASS AT PRESENT', 'ADDRESS', 'APARTMENT NUMBER', 'ZIP CODE',\n",
            "       'RESIDENTIAL UNITS', 'COMMERCIAL UNITS', 'TOTAL UNITS',\n",
            "       'LAND SQUARE FEET', 'GROSS SQUARE FEET', 'YEAR BUILT',\n",
            "       'TAX CLASS AT TIME OF SALE', 'BUILDING CLASS AT TIME OF SALE',\n",
            "       'SALE PRICE', 'SALE DATE'],\n",
            "      dtype='object')\n",
            "Filas y columnas: (84548, 22)\n"
          ]
        },
        {
          "output_type": "stream",
          "name": "stderr",
          "text": [
            "/tmp/ipython-input-1314465955.py:2: DtypeWarning: Columns (0) have mixed types. Specify dtype option on import or set low_memory=False.\n",
            "  df = pd.read_csv('/content/drive/MyDrive/ClassFiles/miaad-nyc-r-s.csv').iloc[:-1]\n"
          ]
        }
      ]
    },
    {
      "cell_type": "markdown",
      "source": [
        "# Práctica 12: Agregar una columna"
      ],
      "metadata": {
        "id": "6hGef1N9cM-X"
      }
    },
    {
      "cell_type": "code",
      "source": [
        "#Comprobar nombres de las columnas\n",
        "df.columns\n",
        "\n",
        "#Renombrar la primer columna por INDEX MIIAD\n",
        "df.rename(columns={'Unnamed: 0':'INDEX MIIAD'}, inplace=True)\n",
        "df.columns"
      ],
      "metadata": {
        "colab": {
          "base_uri": "https://localhost:8080/"
        },
        "id": "gJt-dHhFcO7t",
        "outputId": "112cbe3a-62fd-44a9-c00b-4c803ccf6142"
      },
      "execution_count": 21,
      "outputs": [
        {
          "output_type": "execute_result",
          "data": {
            "text/plain": [
              "Index(['INDEX MIIAD', 'BOROUGH', 'NEIGHBORHOOD', 'BUILDING CLASS CATEGORY',\n",
              "       'TAX CLASS AT PRESENT', 'BLOCK', 'LOT', 'EASE-MENT',\n",
              "       'BUILDING CLASS AT PRESENT', 'ADDRESS', 'APARTMENT NUMBER', 'ZIP CODE',\n",
              "       'RESIDENTIAL UNITS', 'COMMERCIAL UNITS', 'TOTAL UNITS',\n",
              "       'LAND SQUARE FEET', 'GROSS SQUARE FEET', 'YEAR BUILT',\n",
              "       'TAX CLASS AT TIME OF SALE', 'BUILDING CLASS AT TIME OF SALE',\n",
              "       'SALE PRICE', 'SALE DATE'],\n",
              "      dtype='object')"
            ]
          },
          "metadata": {},
          "execution_count": 21
        }
      ]
    },
    {
      "cell_type": "markdown",
      "source": [
        "# Práctica 13: Normalización de los nombres de la columna."
      ],
      "metadata": {
        "id": "468GHQiOdXnu"
      }
    },
    {
      "cell_type": "code",
      "source": [
        "#Normalizar los nombres de la columnas a minisculas y reemplazar los espacios pon gion bajo\n",
        "df.columns = df.columns.str.lower().str.replace(\" \", \"_\")\n",
        "\n",
        "#Imprimir los nombres de las columnas con los nombres normalizados\n",
        "print(df.columns)\n",
        "\n",
        "#df.head(5)"
      ],
      "metadata": {
        "colab": {
          "base_uri": "https://localhost:8080/"
        },
        "id": "zK3ZmoWGdX3l",
        "outputId": "4bbe3438-4449-42eb-b284-09e014164613"
      },
      "execution_count": 32,
      "outputs": [
        {
          "output_type": "stream",
          "name": "stdout",
          "text": [
            "Index(['index_miiad', 'borough', 'neighborhood', 'building_class_category',\n",
            "       'tax_class_at_present', 'block', 'lot', 'ease-ment',\n",
            "       'building_class_at_present', 'address', 'apartment_number', 'zip_code',\n",
            "       'residential_units', 'commercial_units', 'total_units',\n",
            "       'land_square_feet', 'gross_square_feet', 'year_built',\n",
            "       'tax_class_at_time_of_sale', 'building_class_at_time_of_sale',\n",
            "       'sale_price', 'sale_date'],\n",
            "      dtype='object')\n"
          ]
        }
      ]
    },
    {
      "cell_type": "markdown",
      "source": [
        "# Práctica 14: Errores en los Tipos de Datos"
      ],
      "metadata": {
        "id": "C8y_3kJnfG2_"
      }
    },
    {
      "cell_type": "code",
      "source": [
        "#Imprimir el tipo de dato de cada columna\n",
        "df.dtypes\n",
        "\n",
        "#SALE PRICE(sale_price), LAND SQUARE FEET (land_square_feet), GROSS SQUARE FEET (gross_square_feet) no son tipo flotante, estan definidos como objects.\n",
        "\n",
        "#Convertir a flotante\n",
        "df['sale_price'] = pd.to_numeric(df['sale_price'], errors='coerce')\n",
        "df['land_square_feet'] = pd.to_numeric(df['land_square_feet'], errors='coerce')\n",
        "df['gross_square_feet'] = pd.to_numeric(df['gross_square_feet'], errors='coerce')\n",
        "\n",
        "df.dtypes\n"
      ],
      "metadata": {
        "colab": {
          "base_uri": "https://localhost:8080/",
          "height": 773
        },
        "id": "QSVNr50ifHDF",
        "outputId": "a7554fb5-de67-4003-f9ef-0ed1323687e8"
      },
      "execution_count": 36,
      "outputs": [
        {
          "output_type": "execute_result",
          "data": {
            "text/plain": [
              "index_miiad                        object\n",
              "borough                           float64\n",
              "neighborhood                       object\n",
              "building_class_category            object\n",
              "tax_class_at_present               object\n",
              "block                             float64\n",
              "lot                               float64\n",
              "ease-ment                          object\n",
              "building_class_at_present          object\n",
              "address                            object\n",
              "apartment_number                   object\n",
              "zip_code                          float64\n",
              "residential_units                 float64\n",
              "commercial_units                  float64\n",
              "total_units                       float64\n",
              "land_square_feet                  float64\n",
              "gross_square_feet                 float64\n",
              "year_built                        float64\n",
              "tax_class_at_time_of_sale         float64\n",
              "building_class_at_time_of_sale     object\n",
              "sale_price                        float64\n",
              "sale_date                          object\n",
              "dtype: object"
            ],
            "text/html": [
              "<div>\n",
              "<style scoped>\n",
              "    .dataframe tbody tr th:only-of-type {\n",
              "        vertical-align: middle;\n",
              "    }\n",
              "\n",
              "    .dataframe tbody tr th {\n",
              "        vertical-align: top;\n",
              "    }\n",
              "\n",
              "    .dataframe thead th {\n",
              "        text-align: right;\n",
              "    }\n",
              "</style>\n",
              "<table border=\"1\" class=\"dataframe\">\n",
              "  <thead>\n",
              "    <tr style=\"text-align: right;\">\n",
              "      <th></th>\n",
              "      <th>0</th>\n",
              "    </tr>\n",
              "  </thead>\n",
              "  <tbody>\n",
              "    <tr>\n",
              "      <th>index_miiad</th>\n",
              "      <td>object</td>\n",
              "    </tr>\n",
              "    <tr>\n",
              "      <th>borough</th>\n",
              "      <td>float64</td>\n",
              "    </tr>\n",
              "    <tr>\n",
              "      <th>neighborhood</th>\n",
              "      <td>object</td>\n",
              "    </tr>\n",
              "    <tr>\n",
              "      <th>building_class_category</th>\n",
              "      <td>object</td>\n",
              "    </tr>\n",
              "    <tr>\n",
              "      <th>tax_class_at_present</th>\n",
              "      <td>object</td>\n",
              "    </tr>\n",
              "    <tr>\n",
              "      <th>block</th>\n",
              "      <td>float64</td>\n",
              "    </tr>\n",
              "    <tr>\n",
              "      <th>lot</th>\n",
              "      <td>float64</td>\n",
              "    </tr>\n",
              "    <tr>\n",
              "      <th>ease-ment</th>\n",
              "      <td>object</td>\n",
              "    </tr>\n",
              "    <tr>\n",
              "      <th>building_class_at_present</th>\n",
              "      <td>object</td>\n",
              "    </tr>\n",
              "    <tr>\n",
              "      <th>address</th>\n",
              "      <td>object</td>\n",
              "    </tr>\n",
              "    <tr>\n",
              "      <th>apartment_number</th>\n",
              "      <td>object</td>\n",
              "    </tr>\n",
              "    <tr>\n",
              "      <th>zip_code</th>\n",
              "      <td>float64</td>\n",
              "    </tr>\n",
              "    <tr>\n",
              "      <th>residential_units</th>\n",
              "      <td>float64</td>\n",
              "    </tr>\n",
              "    <tr>\n",
              "      <th>commercial_units</th>\n",
              "      <td>float64</td>\n",
              "    </tr>\n",
              "    <tr>\n",
              "      <th>total_units</th>\n",
              "      <td>float64</td>\n",
              "    </tr>\n",
              "    <tr>\n",
              "      <th>land_square_feet</th>\n",
              "      <td>float64</td>\n",
              "    </tr>\n",
              "    <tr>\n",
              "      <th>gross_square_feet</th>\n",
              "      <td>float64</td>\n",
              "    </tr>\n",
              "    <tr>\n",
              "      <th>year_built</th>\n",
              "      <td>float64</td>\n",
              "    </tr>\n",
              "    <tr>\n",
              "      <th>tax_class_at_time_of_sale</th>\n",
              "      <td>float64</td>\n",
              "    </tr>\n",
              "    <tr>\n",
              "      <th>building_class_at_time_of_sale</th>\n",
              "      <td>object</td>\n",
              "    </tr>\n",
              "    <tr>\n",
              "      <th>sale_price</th>\n",
              "      <td>float64</td>\n",
              "    </tr>\n",
              "    <tr>\n",
              "      <th>sale_date</th>\n",
              "      <td>object</td>\n",
              "    </tr>\n",
              "  </tbody>\n",
              "</table>\n",
              "</div><br><label><b>dtype:</b> object</label>"
            ]
          },
          "metadata": {},
          "execution_count": 36
        }
      ]
    },
    {
      "cell_type": "markdown",
      "source": [
        "# Práctica 15: Genera el diccionario de datos del dataframe preprocesado. Imprime el contenido de dicho diccionario"
      ],
      "metadata": {
        "id": "2bMwEIkYhYm6"
      }
    },
    {
      "cell_type": "code",
      "source": [
        "#Genera el diccionario de datos del dataframe\n",
        "diccionario = pd.DataFrame({\"Nombre de columna\": df.columns,\n",
        "                            \"Tipo de dato\": [str(df[col].dtype) for col in df.columns]})\n",
        "#Imprimir el diccionario\n",
        "print(diccionario)"
      ],
      "metadata": {
        "colab": {
          "base_uri": "https://localhost:8080/"
        },
        "id": "iw5L-PhuhY0e",
        "outputId": "6920cc37-6de6-4059-d654-2209f8c912f1"
      },
      "execution_count": 39,
      "outputs": [
        {
          "output_type": "stream",
          "name": "stdout",
          "text": [
            "                 Nombre de columna Tipo de dato\n",
            "0                      index_miiad       object\n",
            "1                          borough      float64\n",
            "2                     neighborhood       object\n",
            "3          building_class_category       object\n",
            "4             tax_class_at_present       object\n",
            "5                            block      float64\n",
            "6                              lot      float64\n",
            "7                        ease-ment       object\n",
            "8        building_class_at_present       object\n",
            "9                          address       object\n",
            "10                apartment_number       object\n",
            "11                        zip_code      float64\n",
            "12               residential_units      float64\n",
            "13                commercial_units      float64\n",
            "14                     total_units      float64\n",
            "15                land_square_feet      float64\n",
            "16               gross_square_feet      float64\n",
            "17                      year_built      float64\n",
            "18       tax_class_at_time_of_sale      float64\n",
            "19  building_class_at_time_of_sale       object\n",
            "20                      sale_price      float64\n",
            "21                       sale_date       object\n"
          ]
        }
      ]
    }
  ]
}