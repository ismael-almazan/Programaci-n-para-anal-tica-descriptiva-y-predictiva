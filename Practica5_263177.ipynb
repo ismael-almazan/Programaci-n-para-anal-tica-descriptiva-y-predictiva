{
  "nbformat": 4,
  "nbformat_minor": 0,
  "metadata": {
    "colab": {
      "provenance": [],
      "authorship_tag": "ABX9TyOjY/yXYez8yNdOYM5sqhf2",
      "include_colab_link": true
    },
    "kernelspec": {
      "name": "python3",
      "display_name": "Python 3"
    },
    "language_info": {
      "name": "python"
    }
  },
  "cells": [
    {
      "cell_type": "markdown",
      "metadata": {
        "id": "view-in-github",
        "colab_type": "text"
      },
      "source": [
        "<a href=\"https://colab.research.google.com/github/ismael-almazan/Programaci-n-para-anal-tica-descriptiva-y-predictiva/blob/main/Practica5_263177.ipynb\" target=\"_parent\"><img src=\"https://colab.research.google.com/assets/colab-badge.svg\" alt=\"Open In Colab\"/></a>"
      ]
    },
    {
      "cell_type": "markdown",
      "source": [
        "# Uso de máscaras booleanas.\n",
        "\n",
        "Crea un arreglo unidimensional con 15 números aleatorios entre 1 y 50. Luego:\n",
        "\n",
        "*   Selecciona los elementos mayores que 25 utilizando una máscara booleana.\n",
        "*   Cuenta cuántos elementos son mayores que 25.\n"
      ],
      "metadata": {
        "id": "YP7szCfjFGM-"
      }
    },
    {
      "cell_type": "code",
      "execution_count": 20,
      "metadata": {
        "colab": {
          "base_uri": "https://localhost:8080/"
        },
        "id": "ksufoA3xEXuH",
        "outputId": "9d8d323a-c17d-4827-b1f4-557ee4c00d08"
      },
      "outputs": [
        {
          "output_type": "stream",
          "name": "stdout",
          "text": [
            "Arreglo:  [25 19  8 33 27 38 21  4 25 47 49 20 46  3 16]\n",
            "Arreglo con elementos mayores a 25:  [33 27 38 47 49 46]\n",
            "Elementos mayores a 25: 6\n"
          ]
        }
      ],
      "source": [
        "import numpy as np\n",
        "\n",
        "arreglo = np.random.randint(1, 50, 15)\n",
        "print(\"Arreglo: \",arreglo)\n",
        "\n",
        "#Seleccionar los elementos mayores que 25 utilizando una mascara booleana\n",
        "mas25 = arreglo[arreglo > 25]\n",
        "print(\"Arreglo con elementos mayores a 25: \",mas25)\n",
        "print(\"Elementos mayores a 25:\", len(mas25))"
      ]
    }
  ]
}