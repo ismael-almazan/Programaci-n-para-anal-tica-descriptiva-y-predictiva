{
  "nbformat": 4,
  "nbformat_minor": 0,
  "metadata": {
    "colab": {
      "provenance": [],
      "authorship_tag": "ABX9TyO1Fo6TwZeBYh167FQ0kPno",
      "include_colab_link": true
    },
    "kernelspec": {
      "name": "python3",
      "display_name": "Python 3"
    },
    "language_info": {
      "name": "python"
    }
  },
  "cells": [
    {
      "cell_type": "markdown",
      "metadata": {
        "id": "view-in-github",
        "colab_type": "text"
      },
      "source": [
        "<a href=\"https://colab.research.google.com/github/ismael-almazan/Programaci-n-para-anal-tica-descriptiva-y-predictiva/blob/main/Descomposici%C3%B3n_de_Matrices.ipynb\" target=\"_parent\"><img src=\"https://colab.research.google.com/assets/colab-badge.svg\" alt=\"Open In Colab\"/></a>"
      ]
    },
    {
      "cell_type": "code",
      "execution_count": 58,
      "metadata": {
        "colab": {
          "base_uri": "https://localhost:8080/",
          "height": 0
        },
        "id": "n7_XnXg1kJMO",
        "outputId": "162885b4-796a-413b-e784-676e4b52981a"
      },
      "outputs": [
        {
          "output_type": "stream",
          "name": "stdout",
          "text": [
            "Matriz B:\n",
            "⎡39/4  9/2   2 ⎤\n",
            "⎢              ⎥\n",
            "⎢ -1    3   -1 ⎥\n",
            "⎢              ⎥\n",
            "⎣ -1    2   9/2⎦\n",
            "\n",
            "Matriz triangular inferior L:\n",
            "⎡  1    0   0⎤\n",
            "⎢            ⎥\n",
            "⎢-4/39  1   0⎥\n",
            "⎢            ⎥\n",
            "⎢       32   ⎥\n",
            "⎢-4/39  ──  1⎥\n",
            "⎣       45   ⎦\n",
            "\n",
            "Matriz triangular superior U:\n",
            "⎡39/4  9/2   2  ⎤\n",
            "⎢               ⎥\n",
            "⎢      45   -31 ⎥\n",
            "⎢ 0    ──   ────⎥\n",
            "⎢      13    39 ⎥\n",
            "⎢               ⎥\n",
            "⎢           1423⎥\n",
            "⎢ 0     0   ────⎥\n",
            "⎣           270 ⎦\n",
            "\n",
            "Permutaciones: []\n",
            "\n",
            "Reconstrucción B:\n",
            "⎡39/4  9/2   2 ⎤\n",
            "⎢              ⎥\n",
            "⎢ -1    3   -1 ⎥\n",
            "⎢              ⎥\n",
            "⎣ -1    2   9/2⎦\n"
          ]
        }
      ],
      "source": [
        "from sympy import Matrix, pprint, S\n",
        "import numpy as np\n",
        "#Definir la matriz B\n",
        "\n",
        "B = Matrix([\n",
        "    [S('39/4'), S('9/2'), S('2')],\n",
        "    [S('-1'),   S('3'),   S('-1')],\n",
        "    [S('-1'),   S('2'),   S('9/2')]\n",
        "])\n",
        "print(\"Matriz B:\")\n",
        "pprint(B)\n",
        "\n",
        "# Calcular descomposición LU\n",
        "L, U, perm = B.LUdecomposition()\n",
        "\n",
        "print(\"\\nMatriz triangular inferior L:\")\n",
        "pprint(L)\n",
        "\n",
        "print(\"\\nMatriz triangular superior U:\")\n",
        "pprint(U)\n",
        "\n",
        "print(\"\\nPermutaciones:\", perm)\n",
        "\n",
        "#Reconstruye la matriz\n",
        "print(\"\\nReconstrucción B:\")\n",
        "pprint(L * U)"
      ]
    },
    {
      "cell_type": "code",
      "source": [
        "#Descomposcion QR de la matriz B\n",
        "# Calcular la descomposición QR\n",
        "Q, R = B.QRdecomposition()\n",
        "\n",
        "\n",
        "print(\"MATRIZ Q :\\n\")\n",
        "pprint(Q)\n",
        "\n",
        "print(\"\\nMATRIZ R:\\n\")\n",
        "pprint(R)\n",
        "\n",
        "# Verificación: Q * R = B\n",
        "print(\"VERIFICACIÓN Q * R = B:\\n\")\n",
        "verificacion = Q * R\n",
        "pprint(verificacion)"
      ],
      "metadata": {
        "colab": {
          "base_uri": "https://localhost:8080/",
          "height": 0
        },
        "id": "39o9qk8KxYo9",
        "outputId": "6f0acedf-2e32-4bc3-b5bf-d0aec8d478d7"
      },
      "execution_count": 40,
      "outputs": [
        {
          "output_type": "stream",
          "name": "stdout",
          "text": [
            "MATRIZ Q :\n",
            "\n",
            "⎡39⋅√1553   924⋅√42640721    4⋅√27457  ⎤\n",
            "⎢────────   ─────────────    ────────  ⎥\n",
            "⎢  1553       42640721        27457    ⎥\n",
            "⎢                                      ⎥\n",
            "⎢-4⋅√1553   5281⋅√42640721  -96⋅√27457 ⎥\n",
            "⎢─────────  ──────────────  ───────────⎥\n",
            "⎢  1553        42640721        27457   ⎥\n",
            "⎢                                      ⎥\n",
            "⎢-4⋅√1553   3728⋅√42640721  135⋅√27457 ⎥\n",
            "⎢─────────  ──────────────  ────────── ⎥\n",
            "⎣  1553        42640721       27457    ⎦\n",
            "\n",
            "MATRIZ R:\n",
            "\n",
            "⎡√1553  311⋅√1553     64⋅√1553    ⎤\n",
            "⎢─────  ─────────     ────────    ⎥\n",
            "⎢  4      3106          1553      ⎥\n",
            "⎢                                 ⎥\n",
            "⎢       √42640721  13343⋅√42640721⎥\n",
            "⎢  0    ─────────  ───────────────⎥\n",
            "⎢         1553        42640721    ⎥\n",
            "⎢                                 ⎥\n",
            "⎢                    1423⋅√27457  ⎥\n",
            "⎢  0        0        ───────────  ⎥\n",
            "⎣                       54914     ⎦\n",
            "VERIFICACIÓN Q * R = B:\n",
            "\n",
            "⎡39/4  9/2   2 ⎤\n",
            "⎢              ⎥\n",
            "⎢ -1    3   -1 ⎥\n",
            "⎢              ⎥\n",
            "⎣ -1    2   9/2⎦\n"
          ]
        }
      ]
    },
    {
      "cell_type": "code",
      "source": [
        "#Descomposicion SVD de la matriz B\n",
        "#Se define de nuevo la matriz y se calcula con Numpy ya que\n",
        "#con Sympy tarda demaciado tiempo\n",
        "\n",
        "B = np.array([\n",
        "    [39/4, 9/2, 2],\n",
        "    [-1,   3,   -1],\n",
        "    [-1,   2,   9/2]\n",
        "], dtype=np.float64)\n",
        "\n",
        "U, S, V = np.linalg.svd(B)\n",
        "\n",
        "print(\"\\nMatriz U:\\n\", U)\n",
        "print(\"\\nVector S:\\n\", S)\n",
        "print(\"\\nMatriz V:\\n\", V)\n",
        "\n",
        "#Reconstrucción de la matriz original B\n",
        "print(\"\\nReconstrucción B:\\n\", U @ np.diag(S) @ V)"
      ],
      "metadata": {
        "colab": {
          "base_uri": "https://localhost:8080/",
          "height": 0
        },
        "id": "WLWhhyFF09G2",
        "outputId": "2b99e783-f045-4950-8ddd-82f58947365a"
      },
      "execution_count": 57,
      "outputs": [
        {
          "output_type": "stream",
          "name": "stdout",
          "text": [
            "\n",
            "Matriz U:\n",
            " [[-0.99603384  0.08891522  0.0032655 ]\n",
            " [-0.01797912 -0.16518782 -0.98609824]\n",
            " [-0.08713972 -0.98224593  0.16613128]]\n",
            "\n",
            "Vector S:\n",
            " [10.95745655  4.99235661  3.25161828]\n",
            "\n",
            "Matriz V:\n",
            " [[-0.87668257 -0.42987796 -0.21594585]\n",
            " [ 0.40348823 -0.41261813 -0.81666611]\n",
            " [ 0.26196359 -0.80308855  0.53518582]]\n",
            "\n",
            "Reconstrucción B:\n",
            " [[ 9.75  4.5   2.  ]\n",
            " [-1.    3.   -1.  ]\n",
            " [-1.    2.    4.5 ]]\n"
          ]
        }
      ]
    }
  ]
}