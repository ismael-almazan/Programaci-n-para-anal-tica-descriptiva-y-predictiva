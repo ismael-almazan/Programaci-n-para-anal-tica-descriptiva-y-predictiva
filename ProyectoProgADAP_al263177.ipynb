{
  "nbformat": 4,
  "nbformat_minor": 0,
  "metadata": {
    "colab": {
      "provenance": [],
      "include_colab_link": true
    },
    "kernelspec": {
      "name": "python3",
      "display_name": "Python 3"
    },
    "language_info": {
      "name": "python"
    }
  },
  "cells": [
    {
      "cell_type": "markdown",
      "metadata": {
        "id": "view-in-github",
        "colab_type": "text"
      },
      "source": [
        "<a href=\"https://colab.research.google.com/github/ismael-almazan/Programaci-n-para-anal-tica-descriptiva-y-predictiva/blob/main/ProyectoProgADAP_al263177.ipynb\" target=\"_parent\"><img src=\"https://colab.research.google.com/assets/colab-badge.svg\" alt=\"Open In Colab\"/></a>"
      ]
    },
    {
      "cell_type": "markdown",
      "source": [
        "# **Proyecto de Programación para Analítica Descriptiva y Predictiva**\n",
        "## Nombre del Proyecto: Detección de fraude financiero con analítica descriptiva y predictiva\n",
        "## Grupo: A\n",
        "## Autor: Ismael Almazan Luna\n",
        "## Matrícula: 263177\n",
        "## Fecha: 6/sep/2025"
      ],
      "metadata": {
        "id": "V5SiSwjFaQ8j"
      }
    },
    {
      "cell_type": "markdown",
      "source": [
        "# **1. Introducción**\n",
        "\n",
        "## - Descripción del problema: ¿Qué queremos analizar o predecir?\n",
        "\n",
        "*  Identificar patrones que permitan detectar transacciones financieras fraudulentas en tiempo real o lo más pronto posible.\n",
        "\n",
        "*  Predecir si una transacción es legítima o fraudulenta con base en sus características (monto, frecuencia, ubicación, tipo de operación, etc.).\n",
        "\n",
        "## - Objetivo del análisis: ¿Qué impacto tendrá este análisis?\n",
        "\n",
        "*  El objetivo del análisis es identificar patrones y factores clave que distinguen a las transacciones legítimas de las fraudulentas, para desarrollar modelos predictivos que permitan reducir las pérdidas financieras y aumentar la seguridad de los usuarios y las instituciones.\n",
        "\n",
        "Impacto del análisis\n",
        "\n",
        "Económioco\n",
        "\n",
        "*  Disminuir pérdidas monetarias derivadas de fraudes.\n",
        "\n",
        "*  Optimizar costos de investigación y monitoreo manual al automatizar parte de la detección.\n",
        "\n",
        "Tecnológico\n",
        "\n",
        "*  Desarrollar un sistema predictivo que complemente los procesos de seguridad existentes.\n",
        "\n",
        "*  Incorporar técnicas modernas de machine learning aplicadas a grandes volúmenes de datos.\n",
        "\n",
        "Social\n",
        "\n",
        "*  Incrementar la confianza de los usuarios en el sistema financiero digital.\n",
        "\n",
        "*  Proteger a los clientes de cargos indebidos y fraudes en sus cuentas.\n",
        "\n",
        "## - Fuente de datos: ¿De dónde provienen los datos?\n"
      ],
      "metadata": {
        "id": "6ljsvIIXbAHF"
      }
    },
    {
      "cell_type": "markdown",
      "source": [
        "# **2. Captura y Carga de Datos**\n",
        "\n",
        "## - Explicación de la fuente de datos: ¿Cuáles son las fuentes de datos?, ¿Qué formato tienen los datos (CSV, SQL, API, etc.)?, ¿Cuántas observaciones y variables contiene el dataset?\n",
        "\n",
        "Fuente: Synthetic Financial Datasets For Fraud Detection. Kaggle.\n",
        "Se puede importar directramente del Kaggle o decargar en formato CSV, los cuales vienen repaados por el delimitador de coma\n",
        "*  Es un dataset con datos estructurado.\n",
        "*  Se trata de un dataset sintetico generadocon el simulador PaySim,creado para suplir la escasa disponibilidad de datos reales de transacciones financieras debido a su caracter altamente sensible.\n",
        "* Estructura del Dataset\n",
        "  +  Numero de filas(registros): 6,362,620transacciones\n",
        "  +  Numero de columnas(atributos): 11\n",
        "\n",
        "----------------------------------------------------------------------------\n",
        "step  Número de paso en la simulación (representa el tiempo).\n",
        "\n",
        "type: Tipo de transacción (por ejemplo, CASH_IN, CASH_OUT, DEBIT, PAYMENT, TRANSFER).\n",
        "\n",
        "amount: Monto de la transacción.\n",
        "\n",
        "nameOrig: ID del cliente que inicia la transacción.\n",
        "\n",
        "oldbalanceOrg: Saldo anterior del cliente que inicia la transacción.\n",
        "\n",
        "newbalanceOrig: Nuevo saldo del cliente que inicia la transacción después de la operación.\n",
        "\n",
        "nameDest: ID del cliente que recibe la transacción.\n",
        "\n",
        "oldbalanceDest: Saldo anterior del cliente receptor.\n",
        "\n",
        "newbalanceDest: Nuevo saldo del cliente receptor después de la operación.\n",
        "\n",
        "isFraud: Indicador de fraude (1 si la transacción es fraudulenta, 0 si es legítima).\n",
        "\n",
        "isFlaggedFraud: Indicador de fraude detectado por el sistema (1 si el sistema marcó la transacción como fraudulenta, 0 si no).\n",
        "\n",
        "----------------------------------------------------------------------------\n",
        "\n",
        "*  PaySim utiliza datos agregados del conjunto de datos privados para generar un conjunto dedatos sintetico que seasemeja al funcionamiento normal de las transacciones e inyecta un comportamiento malicioso\n",
        "\n",
        "## - Explicación sobre problemas en la carga de Datos y el Código para la carga de datos desde archivos (bibiotecas, etc.)\n",
        "\n",
        "*  Primeramente, se importa la librería kagglehub para descargar el dataset paysim1 desde Kaggle.\n",
        "\n",
        "*  Luego, se guarda la ruta del dataset en la variable path.\n",
        "\n",
        "*  A partir de path, se cargan los datos en un DataFrame llamado datos utilizando la función de pandas para leer archivos CSV en un DataFrame.\n",
        "\n",
        "*  Finalmente, se imprimen las primeras observaciones del DataFrame para comprobar que los datos se importaron correctamente.\n",
        "\n",
        "\n"
      ],
      "metadata": {
        "id": "R2awiYXqa6Tv"
      }
    },
    {
      "cell_type": "code",
      "source": [
        "import kagglehub\n",
        "import pandas as pd\n",
        "import os\n",
        "\n",
        "# Descargar dataset desde Kaggle\n",
        "path = kagglehub.dataset_download(\"ealaxi/paysim1\")\n",
        "\n",
        "print(\"Path to dataset files:\", path)\n",
        "\n",
        "# Localizar el archivo CSV dentro del directorio descargado\n",
        "csv_file = os.path.join(path, \"PS_20174392719_1491204439457_log.csv\")\n",
        "\n",
        "# Cargar en un DataFrame\n",
        "datos = pd.read_csv(csv_file)\n",
        "\n",
        "# Mostrar las primeras filas\n",
        "print(datos.head())\n",
        "\n",
        "datos.info()\n",
        "datos.columns"
      ],
      "metadata": {
        "colab": {
          "base_uri": "https://localhost:8080/"
        },
        "id": "I8D9C7ZHQ0zQ",
        "outputId": "b9f64e97-3a58-4de8-e95e-aef845457384"
      },
      "execution_count": 6,
      "outputs": [
        {
          "output_type": "stream",
          "name": "stdout",
          "text": [
            "Using Colab cache for faster access to the 'paysim1' dataset.\n",
            "Path to dataset files: /kaggle/input/paysim1\n",
            "   step      type    amount     nameOrig  oldbalanceOrg  newbalanceOrig  \\\n",
            "0     1   PAYMENT   9839.64  C1231006815       170136.0       160296.36   \n",
            "1     1   PAYMENT   1864.28  C1666544295        21249.0        19384.72   \n",
            "2     1  TRANSFER    181.00  C1305486145          181.0            0.00   \n",
            "3     1  CASH_OUT    181.00   C840083671          181.0            0.00   \n",
            "4     1   PAYMENT  11668.14  C2048537720        41554.0        29885.86   \n",
            "\n",
            "      nameDest  oldbalanceDest  newbalanceDest  isFraud  isFlaggedFraud  \n",
            "0  M1979787155             0.0             0.0        0               0  \n",
            "1  M2044282225             0.0             0.0        0               0  \n",
            "2   C553264065             0.0             0.0        1               0  \n",
            "3    C38997010         21182.0             0.0        1               0  \n",
            "4  M1230701703             0.0             0.0        0               0  \n",
            "<class 'pandas.core.frame.DataFrame'>\n",
            "RangeIndex: 6362620 entries, 0 to 6362619\n",
            "Data columns (total 11 columns):\n",
            " #   Column          Dtype  \n",
            "---  ------          -----  \n",
            " 0   step            int64  \n",
            " 1   type            object \n",
            " 2   amount          float64\n",
            " 3   nameOrig        object \n",
            " 4   oldbalanceOrg   float64\n",
            " 5   newbalanceOrig  float64\n",
            " 6   nameDest        object \n",
            " 7   oldbalanceDest  float64\n",
            " 8   newbalanceDest  float64\n",
            " 9   isFraud         int64  \n",
            " 10  isFlaggedFraud  int64  \n",
            "dtypes: float64(5), int64(3), object(3)\n",
            "memory usage: 534.0+ MB\n"
          ]
        },
        {
          "output_type": "execute_result",
          "data": {
            "text/plain": [
              "Index(['step', 'type', 'amount', 'nameOrig', 'oldbalanceOrg', 'newbalanceOrig',\n",
              "       'nameDest', 'oldbalanceDest', 'newbalanceDest', 'isFraud',\n",
              "       'isFlaggedFraud'],\n",
              "      dtype='object')"
            ]
          },
          "metadata": {},
          "execution_count": 6
        }
      ]
    },
    {
      "cell_type": "markdown",
      "source": [
        "#**3.Transformación y Preprocesamiento - Data Wrangling**\n",
        "\n",
        "## - Identificación de Tipos de Datos\n",
        "## - Cantidad de Valores nulos\n",
        "##- Explicación sobre cada una de las problemáticas encontradas, las soluciones y el código"
      ],
      "metadata": {
        "id": "oKCLUQvPcSOm"
      }
    },
    {
      "cell_type": "markdown",
      "source": [
        "# **4. Análisis Descriptivo de Datos**\n",
        "\n",
        "## - Preguntas a responder con el AD\n",
        "## - Explicación de Estadísticas Básicas Aplicadas, Visualización de Datos con Gráficos, y Resumen de las respuestas"
      ],
      "metadata": {
        "id": "3gERzOTAfuOL"
      }
    },
    {
      "cell_type": "markdown",
      "source": [
        "# **5. Análisis Exploratorio de los Datos**\n",
        "\n",
        "## - Preguntas a responder\n",
        "## - Estadísticas Empleadas, visualización y Resumen de las respuestas encontradas."
      ],
      "metadata": {
        "id": "_s8IXMLsfrI5"
      }
    },
    {
      "cell_type": "markdown",
      "source": [
        "# **6. Análisis Predictivo**\n",
        "\n",
        "## - Preprocesamiento para Análisis Predictivo: Problemas, Técnicas y Código\n",
        "\n",
        "## - Modelado Predictivo\n",
        "### - Modelo elegido y parámetros\n",
        "### - Entrenamiento y Evaluación\n",
        "## - Resultados\n"
      ],
      "metadata": {
        "id": "D8irLVFimFqa"
      }
    },
    {
      "cell_type": "markdown",
      "source": [
        "# **7. Conclusiones y Trabajos Futuros**\n",
        "\n",
        "## - Resumen del trabajo realizado, hallazgos y posibles mejoras"
      ],
      "metadata": {
        "id": "8ESQV5mmmSRI"
      }
    }
  ]
}