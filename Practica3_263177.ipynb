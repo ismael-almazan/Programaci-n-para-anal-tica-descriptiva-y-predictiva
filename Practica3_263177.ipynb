{
  "nbformat": 4,
  "nbformat_minor": 0,
  "metadata": {
    "colab": {
      "provenance": [],
      "authorship_tag": "ABX9TyMWKIZp2x5xVRmMmsZ5eVMy",
      "include_colab_link": true
    },
    "kernelspec": {
      "name": "python3",
      "display_name": "Python 3"
    },
    "language_info": {
      "name": "python"
    }
  },
  "cells": [
    {
      "cell_type": "markdown",
      "metadata": {
        "id": "view-in-github",
        "colab_type": "text"
      },
      "source": [
        "<a href=\"https://colab.research.google.com/github/ismael-almazan/Programaci-n-para-anal-tica-descriptiva-y-predictiva/blob/main/Practica3_263177.ipynb\" target=\"_parent\"><img src=\"https://colab.research.google.com/assets/colab-badge.svg\" alt=\"Open In Colab\"/></a>"
      ]
    },
    {
      "cell_type": "markdown",
      "source": [
        "# Creación de un arreglo y operaciones básicas.\n",
        "\n",
        "Crea un arreglo unidimensional de 20 elementos con valores aleatorios entre 1 y 100. Luego, realiza las siguientes operaciones:\n",
        "\n",
        "\n",
        "\n",
        "*   Encuentra el valor máximo del arreglo.\n",
        "*   Encuentra el valor mínimo del arreglo.\n",
        "*   Calcula la media del arreglo.\n",
        "*   Suma 10 a cada elemento del arreglo.\n",
        "\n",
        "\n"
      ],
      "metadata": {
        "id": "_Fz9u_E-vNeS"
      }
    },
    {
      "cell_type": "code",
      "execution_count": null,
      "metadata": {
        "colab": {
          "base_uri": "https://localhost:8080/"
        },
        "id": "DlcKodfju-wx",
        "outputId": "dc6941fb-27ce-45d8-b9ce-901fdb958e43"
      },
      "outputs": [
        {
          "output_type": "stream",
          "name": "stdout",
          "text": [
            "Elementos del arreglo: [ 9 63 85 42  1 91 64 78 72 52 65 64 42 69 79 27 32 37 74 24]\n",
            "Valor maximo: 91\n",
            "Valo minimo: 1\n",
            "Media del arreglo: 53.5\n",
            "Arreglo sumado 10: [ 19  73  95  52  11 101  74  88  82  62  75  74  52  79  89  37  42  47\n",
            "  84  34]\n"
          ]
        }
      ],
      "source": [
        "import numpy as np\n",
        "\n",
        "#Crear arreglo\n",
        "arreglo = np.random.randint(1, 100, 20)\n",
        "print(\"Elementos del arreglo:\", arreglo)\n",
        "\n",
        "#Valor maximo del arreglo\n",
        "maximo = np.max(arreglo)\n",
        "print(\"Valor maximo:\", maximo)\n",
        "\n",
        "#Valor minimo del arreglo\n",
        "minimo = np.min(arreglo)\n",
        "print(\"Valo minimo:\", minimo)\n",
        "\n",
        "#Media del arreglo\n",
        "media = np.mean(arreglo)\n",
        "print(\"Media del arreglo:\", media)\n",
        "\n",
        "#Suma 10 a cada elemento del arreglo\n",
        "arreglo10 = arreglo + 10\n",
        "print(\"Arreglo sumado 10:\", arreglo10)"
      ]
    }
  ]
}