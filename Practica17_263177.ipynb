{
  "nbformat": 4,
  "nbformat_minor": 0,
  "metadata": {
    "colab": {
      "provenance": [],
      "mount_file_id": "10BmUBgTBF7Me9_g9wvttSgwb5fDYzf0U",
      "authorship_tag": "ABX9TyOgtZoV/TGp2fXOeMDaksNN",
      "include_colab_link": true
    },
    "kernelspec": {
      "name": "python3",
      "display_name": "Python 3"
    },
    "language_info": {
      "name": "python"
    }
  },
  "cells": [
    {
      "cell_type": "markdown",
      "metadata": {
        "id": "view-in-github",
        "colab_type": "text"
      },
      "source": [
        "<a href=\"https://colab.research.google.com/github/ismael-almazan/Programaci-n-para-anal-tica-descriptiva-y-predictiva/blob/main/Practica17_263177.ipynb\" target=\"_parent\"><img src=\"https://colab.research.google.com/assets/colab-badge.svg\" alt=\"Open In Colab\"/></a>"
      ]
    },
    {
      "cell_type": "markdown",
      "source": [
        "**Universidad Autonoma de Ciudad Juarez**\n",
        "\n",
        "**Maestría en Inteligencia Artificial y Analítica de Datos**\n",
        "\n",
        "**Programación para Analítica Descriptiva y Predictiva**\n",
        "\n",
        "**Ismael Almazan Luna**\n",
        "\n",
        "**12 de septiembre de 2025**"
      ],
      "metadata": {
        "id": "1hMwfmbu_cu9"
      }
    },
    {
      "cell_type": "code",
      "source": [
        "from google.colab import drive\n",
        "drive.mount('/content/drive')\n",
        "import pandas as pd\n",
        "\n",
        "\n",
        "df = pd.read_csv('/content/drive/MyDrive/ClassFiles/nls97.csv')"
      ],
      "metadata": {
        "colab": {
          "base_uri": "https://localhost:8080/"
        },
        "id": "yuiNiXTh_pHJ",
        "outputId": "4a8cafbf-e7ed-4ba4-87c1-9392ebaf85b2"
      },
      "execution_count": 6,
      "outputs": [
        {
          "output_type": "stream",
          "name": "stdout",
          "text": [
            "Drive already mounted at /content/drive; to attempt to forcibly remount, call drive.mount(\"/content/drive\", force_remount=True).\n"
          ]
        }
      ]
    },
    {
      "cell_type": "markdown",
      "source": [
        "# Práctica 17: Limpieza y Transformación de Datos Categóricos\n",
        "El objetivo de esta actividad es que los estudiantes practiquen los temas vistos de limpieza y transformación de datos categóricos."
      ],
      "metadata": {
        "id": "0eOvt1nt_efT"
      }
    },
    {
      "cell_type": "markdown",
      "source": [
        "# Ejercicio 01: Errores Tipográficos y Valores Inconsistentes: maritalstatus\n",
        "\n",
        "* Imprime de la columna 'maritalstatus' los valores únicos.\n",
        "* Imprime la frecuencia de cada valor único\n",
        "*  Cambia el valor 'Never-Married' a 'Single'\n",
        "*  Imprime la frecuencia de cada valor único."
      ],
      "metadata": {
        "id": "sIKqOIxKAfwu"
      }
    },
    {
      "cell_type": "code",
      "metadata": {
        "colab": {
          "base_uri": "https://localhost:8080/"
        },
        "id": "73ded0e6",
        "outputId": "91c0fb91-3f76-4724-ba40-3a2f7cabb5a1"
      },
      "source": [
        "# Imprime de la columna 'maritalstatus' los valores únicos.\n",
        "print(\"Valores unicos de maritalstatus\\n\", df['maritalstatus'].unique())\n",
        "\n",
        "# Imprime la frecuencia de cada valor único\n",
        "print(\"\\nFrequencia de cada valor unico\\n\", df['maritalstatus'].value_counts())\n",
        "\n",
        "#Cambia el valor 'Never-Married' a 'Single'. Se uso implace=True para reemplazar en la misma columna la categoria\n",
        "df[\"maritalstatus\"].replace({\"Never-married\": \"Single\"}, inplace=True)\n",
        "\n",
        "#Imprime la frecuencia de cada valor único.\n",
        "print(\"\\nFrequencia de cada valor unico\\n\", df['maritalstatus'].value_counts())"
      ],
      "execution_count": 26,
      "outputs": [
        {
          "output_type": "stream",
          "name": "stdout",
          "text": [
            "Valores unicos de maritalstatus\n",
            " ['Married' 'Single' nan 'Divorced' 'Separated' 'Widowed']\n",
            "\n",
            "Frequencia de cada valor unico\n",
            " maritalstatus\n",
            "Married      3066\n",
            "Single       2766\n",
            "Divorced      663\n",
            "Separated     154\n",
            "Widowed        23\n",
            "Name: count, dtype: int64\n",
            "\n",
            "Frequencia de cada valor unico\n",
            " maritalstatus\n",
            "Married      3066\n",
            "Single       2766\n",
            "Divorced      663\n",
            "Separated     154\n",
            "Widowed        23\n",
            "Name: count, dtype: int64\n"
          ]
        }
      ]
    },
    {
      "cell_type": "markdown",
      "source": [
        "# Ejercicio 02: Errores Tipográficos y Valores Inconsistentes: highestdegree.\n",
        "\n",
        "*  Imprime de la columna 'highestdegrees' los valores únicos.\n",
        "*  Imprime la frecuencia de cada valor único\n",
        "*  Observa que cada valor categórico empieza con 0. Modifica las categorías para que todas estén en minúsculas y ninguna empiece con un número. Por ejemplo, si dice \"2. High School\", debería ser 'high school.\n",
        "*  Los cambios se realizarán en la misma columna 'highestdegrees'.\n",
        "*  Imprime los nuevos valores únicos."
      ],
      "metadata": {
        "id": "lWgsNB53Gu36"
      }
    },
    {
      "cell_type": "code",
      "source": [
        "#df.columns   el nombre de la columna viene como highestdegree\n",
        "\n",
        "#Imprime de la columna 'highestdegrees' los valores únicos.\n",
        "print(\"Valores unicos de highestdegree:\\n\", df['highestdegree'].unique())\n",
        "\n",
        "#Imprime la frecuencia de cada valor único\n",
        "print(\"\\nFrecuencia de highestdegree:\\n\", df['highestdegree'].value_counts())\n",
        "\n",
        "#Modifica las categorías para que todas estén en minúsculas y ninguna empiece con un número\n",
        "df['highestdegree'] = df['highestdegree'].str.replace(r'^\\[0-9]', '', regex=True) #Elimina el numero que viene al inicio de las categorias\n",
        "df['highestdegree'] = df['highestdegree'].str.replace(r'^\\.', '', regex=True)     #Elimina el punto depues del numero\n",
        "df['highestdegree'] = df['highestdegree'].str.replace(r'^\\s+', '', regex=True)    #Elimina el espacio antes del nombre la categoria\n",
        "df['highestdegree'] = df['highestdegree'].str.lower()                             #Pone en minuscula todas las categorias\n",
        "\n",
        "#Imprimir los nuevos valores unicos\n",
        "print(\"\\nFrecuencia de highestdegree (Valores nuevos):\\n\", df['highestdegree'].value_counts())"
      ],
      "metadata": {
        "colab": {
          "base_uri": "https://localhost:8080/"
        },
        "id": "_L6kblJ1HFMO",
        "outputId": "3f381438-e05d-4f86-cb84-5f05b99822d8"
      },
      "execution_count": 54,
      "outputs": [
        {
          "output_type": "stream",
          "name": "stdout",
          "text": [
            "Valores unicos de highestdegree:\n",
            " ['high school' 'none' 'bachelors' 'associates' 'masters' 'ged'\n",
            " 'professional' 'phd' nan]\n",
            "\n",
            "Frecuencia de highestdegree:\n",
            " highestdegree\n",
            "high school     3667\n",
            "bachelors       1673\n",
            "ged             1146\n",
            "none             953\n",
            "associates       737\n",
            "masters          603\n",
            "professional     120\n",
            "phd               54\n",
            "Name: count, dtype: int64\n",
            "\n",
            "Frecuencia de highestdegree (Valores nuevos):\n",
            " highestdegree\n",
            "high school     3667\n",
            "bachelors       1673\n",
            "ged             1146\n",
            "none             953\n",
            "associates       737\n",
            "masters          603\n",
            "professional     120\n",
            "phd               54\n",
            "Name: count, dtype: int64\n"
          ]
        }
      ]
    },
    {
      "cell_type": "markdown",
      "source": [
        "# Ejercicio 03: Alta Cardinalidad - Frecuencias Bajas\n",
        "\n",
        "*  De la columna 'maritalstatus' une las categorías Widowed y 'Single' en una categoría más general llamada 'Single/No Partner'. Crea una nueva columna, 'marital_grouped' donde aparezcan las nuevas categorías de maritalstatus.\n",
        "*  Imprime los valores únicos de la nueva columna 'marital_grouped'.\n",
        "*  Imprime la frecuencia de los valores únicos de la nueva columna 'marital_grouped'"
      ],
      "metadata": {
        "id": "1BbodEK2Ojx-"
      }
    },
    {
      "cell_type": "code",
      "source": [
        "#df.columns\n",
        "#df['maritalstatus'].unique()\n",
        "\n",
        "\n",
        "#De la columna 'maritalstatus' une las categorías Widowed y 'Single' en una categoría más general llamada 'Single/No Partner'.\n",
        "#Crea una nueva columna, 'marital_grouped' donde aparezcan las nuevas categorías de maritalstatus.\n",
        "df[\"marital_grouped\"] = df['maritalstatus'].replace(['Widowed', 'Single'], 'Single/No Partner')\n",
        "\n",
        "#Nuevos valores unicos de la nueva columna marital_grouped\n",
        "print(\"Nuevos valores unicos de marital_grouped: \\n:\",df['marital_grouped'].unique())\n",
        "\n",
        "#Imprime la frecuencia de los valores unicos de la nueva columna 'marital_grouped'\n",
        "print(\"\\nFrequencia de los valores únicos de marital_grouped: \\n:\",df['marital_grouped'].value_counts())"
      ],
      "metadata": {
        "colab": {
          "base_uri": "https://localhost:8080/"
        },
        "id": "Xw7PuTfAO4Mu",
        "outputId": "0bfb9efd-9b9f-4ef4-e344-dadf0d64d159"
      },
      "execution_count": 70,
      "outputs": [
        {
          "output_type": "stream",
          "name": "stdout",
          "text": [
            "Nuevos valores unicos de marital_grouped: \n",
            ": ['Married' 'Single/No Partner' nan 'Divorced' 'Separated']\n",
            "\n",
            "Frequencia de los valores únicos de marital_grouped: \n",
            ": marital_grouped\n",
            "Married              3066\n",
            "Single/No Partner    2789\n",
            "Divorced              663\n",
            "Separated             154\n",
            "Name: count, dtype: int64\n"
          ]
        }
      ]
    },
    {
      "cell_type": "markdown",
      "source": [
        "# Ejercicio 04: Tipos de Datos\n",
        "\n",
        "*  Imprime el tipo de datos de la columna gender\n",
        "*  Imprime la cantidad de bytes de dicha columna\n",
        "*  Si la columna es de tipo object, modifica a category.\n",
        "*  En caso de haber realizado la modificación del tipo de datos, imprime la cantidad de bytes que ocupa dicha columna con el nuevo tipo de datos"
      ],
      "metadata": {
        "id": "8BYGLLaOSNPS"
      }
    },
    {
      "cell_type": "code",
      "source": [
        "#Imprime el tipo de datos de la columna gende\n",
        "print(\"Tipo de dato de gener: \",df['gender'].dtype)\n",
        "\n",
        "#Imprime la cantidad de bytes de dicha columna\n",
        "print(\"Cantidad de bytes de gender: \",df['gender'].nbytes)\n",
        "\n",
        "#Si la columna es de tipo object, modifica a category.\n",
        "df['gender'] = df['gender'].astype('category')\n",
        "\n",
        "#En caso de haber realizado la modificación del tipo de datos, imprime la cantidad de bytes que ocupa dicha columna con el nuevo tipo\n",
        "print(\"Cantidad de bytes de gender NUevo: \",df['gender'].nbytes)"
      ],
      "metadata": {
        "colab": {
          "base_uri": "https://localhost:8080/"
        },
        "id": "DtPaiUPbSM3d",
        "outputId": "8d79e9e9-7cbd-4e2b-b470-da3dcd7db889"
      },
      "execution_count": 82,
      "outputs": [
        {
          "output_type": "stream",
          "name": "stdout",
          "text": [
            "Tipo de dato de gener:  object\n",
            "Cantidad de bytes de gender:  71872\n",
            "Cantidad de bytes de gender NUevo:  9000\n"
          ]
        }
      ]
    }
  ]
}