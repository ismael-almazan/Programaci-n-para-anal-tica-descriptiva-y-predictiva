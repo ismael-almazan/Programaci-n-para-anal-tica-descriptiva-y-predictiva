{
  "nbformat": 4,
  "nbformat_minor": 0,
  "metadata": {
    "colab": {
      "provenance": [],
      "authorship_tag": "ABX9TyN2xi1wc2OLMGw14o1uGpmu",
      "include_colab_link": true
    },
    "kernelspec": {
      "name": "python3",
      "display_name": "Python 3"
    },
    "language_info": {
      "name": "python"
    }
  },
  "cells": [
    {
      "cell_type": "markdown",
      "metadata": {
        "id": "view-in-github",
        "colab_type": "text"
      },
      "source": [
        "<a href=\"https://colab.research.google.com/github/ismael-almazan/Programaci-n-para-anal-tica-descriptiva-y-predictiva/blob/main/Practica4_263177.ipynb\" target=\"_parent\"><img src=\"https://colab.research.google.com/assets/colab-badge.svg\" alt=\"Open In Colab\"/></a>"
      ]
    },
    {
      "cell_type": "markdown",
      "source": [
        "# Manipulación de matrices.\n",
        "\n",
        "Crea dos matrices de 3x3 con números aleatorios entre 1 y 10. Realiza las siguientes operaciones:\n",
        "\n",
        "*   Suma ambas matrices.\n",
        "*   Resta la segunda matriz de la primera.\n",
        "*   Multiplica la primera matriz por 2.\n",
        "*   Realiza una multiplicación matricial entre las dos matrices.\n",
        "\n",
        "\n",
        "\n",
        "\n",
        "\n",
        "\n"
      ],
      "metadata": {
        "id": "YWRkaQDO_q_-"
      }
    },
    {
      "cell_type": "code",
      "execution_count": 6,
      "metadata": {
        "colab": {
          "base_uri": "https://localhost:8080/"
        },
        "id": "ywlJdjt8_egA",
        "outputId": "1c956c04-8fbc-46e8-92af-153f60e0c132"
      },
      "outputs": [
        {
          "output_type": "stream",
          "name": "stdout",
          "text": [
            "Matriz 1:\n",
            " [[9 2 8]\n",
            " [8 8 1]\n",
            " [4 4 6]]\n",
            "Matriz 1:\n",
            " [[1 2 8]\n",
            " [4 2 4]\n",
            " [5 1 1]]\n",
            "Suma:\n",
            " [[10  4 16]\n",
            " [12 10  5]\n",
            " [ 9  5  7]]\n",
            "Resta:\n",
            " [[ 8  0  0]\n",
            " [ 4  6 -3]\n",
            " [-1  3  5]]\n",
            "Multiplicacion:\n",
            " [[18  4 16]\n",
            " [16 16  2]\n",
            " [ 8  8 12]]\n",
            "Multiplicacion matricial:\n",
            " [[57 30 88]\n",
            " [45 33 97]\n",
            " [50 22 54]]\n"
          ]
        }
      ],
      "source": [
        "import numpy as np\n",
        "\n",
        "#Crear las dos matrices\n",
        "matriz1 = np.random.randint(1,10,(3,3))\n",
        "matriz2 = np.random.randint(1,10,(3,3))\n",
        "print(\"Matriz 1:\\n\",matriz1)\n",
        "print(\"Matriz 1:\\n\",matriz2)\n",
        "\n",
        "#Sumar ambas matrices\n",
        "suma = matriz1 + matriz2\n",
        "print(\"Suma:\\n\",suma)\n",
        "\n",
        "#Restar la segunda matriz de la primera\n",
        "resta = matriz1 - matriz2\n",
        "print(\"Resta:\\n\",resta)\n",
        "\n",
        "#Multiplicar la primera matriz por 2\n",
        "multiplicacion = matriz1 * 2\n",
        "print(\"Multiplicacion:\\n\",multiplicacion)\n",
        "\n",
        "#Realiza una multiplicacion matricial entre las dos matrices\n",
        "multiplicacionmatrices = np.dot(matriz1,matriz2)\n",
        "print(\"Multiplicacion matricial:\\n\",multiplicacionmatrices)"
      ]
    }
  ]
}